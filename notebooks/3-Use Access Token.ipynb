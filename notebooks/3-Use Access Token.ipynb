{
 "cells": [
  {
   "cell_type": "code",
   "execution_count": 1,
   "metadata": {},
   "outputs": [
    {
     "name": "stdout",
     "output_type": "stream",
     "text": [
      "Requirement already satisfied: requests in /Users/henriekebaunack/.local/share/virtualenvs/Spotify_Api_YoutubeVideo-w34Xy5sB/lib/python3.7/site-packages (2.24.0)\n",
      "Requirement already satisfied: urllib3!=1.25.0,!=1.25.1,<1.26,>=1.21.1 in /Users/henriekebaunack/.local/share/virtualenvs/Spotify_Api_YoutubeVideo-w34Xy5sB/lib/python3.7/site-packages (from requests) (1.25.9)\n",
      "Requirement already satisfied: certifi>=2017.4.17 in /Users/henriekebaunack/.local/share/virtualenvs/Spotify_Api_YoutubeVideo-w34Xy5sB/lib/python3.7/site-packages (from requests) (2020.6.20)\n",
      "Requirement already satisfied: chardet<4,>=3.0.2 in /Users/henriekebaunack/.local/share/virtualenvs/Spotify_Api_YoutubeVideo-w34Xy5sB/lib/python3.7/site-packages (from requests) (3.0.4)\n",
      "Requirement already satisfied: idna<3,>=2.5 in /Users/henriekebaunack/.local/share/virtualenvs/Spotify_Api_YoutubeVideo-w34Xy5sB/lib/python3.7/site-packages (from requests) (2.10)\n"
     ]
    }
   ],
   "source": [
    "!pip3 install requests \n"
   ]
  },
  {
   "cell_type": "code",
   "execution_count": 2,
   "metadata": {},
   "outputs": [],
   "source": [
    "import base64"
   ]
  },
  {
   "cell_type": "code",
   "execution_count": 14,
   "metadata": {},
   "outputs": [],
   "source": [
    "import requests\n",
    "import datetime\n",
    "from urllib.parse import urlencode \n",
    "#urlendcode can be wrpaped a round a data dictionayry \n",
    "# and will turn it inot something that makes sense in a url\n"
   ]
  },
  {
   "cell_type": "code",
   "execution_count": 4,
   "metadata": {},
   "outputs": [],
   "source": [
    "## for envrionment variables \n",
    "import dotenv\n",
    "import sys \n",
    "import os\n",
    "dotenv.load_dotenv()\n",
    "print(os.getenv(\"CLIENT_ID\"))\n",
    "client_id = os.getenv(\"CLIENT_ID\")\n",
    "client_secret = os.getenv(\"CLIENT_SECRET\")"
   ]
  },
  {
   "cell_type": "code",
   "execution_count": 5,
   "metadata": {},
   "outputs": [],
   "source": [
    "class SpotifyAPI(object):\n",
    "    access_token = None\n",
    "    access_token_expires = None\n",
    "    access_token_did_expire = True \n",
    "    client_id = None\n",
    "    client_secret = None\n",
    "    token_url = \"https://accounts.spotify.com/api/token\"\n",
    "    \n",
    "    def __init__(self, client_id, client_secret, *args, **kwargs):\n",
    "        super().__init__(*args, **kwargs)\n",
    "        self.client_id = client_id\n",
    "        self.client_secret = client_secret\n",
    "    \n",
    "    def get_client_credentials(self):\n",
    "        \"\"\"\n",
    "        Returns a base 64 encoded string\n",
    "        \"\"\"\n",
    "        client_id = self.client_id\n",
    "        client_secret = self.client_secret\n",
    "        if client_id == None or client_secret == None: \n",
    "            raise Exeption(\"You must set client id and client secret\")\n",
    "        client_creds = f\"{client_id}:{client_secret}\"\n",
    "        client_creds_b64 = base64.b64encode(client_creds.encode())\n",
    "        return client_creds_b64.decode()\n",
    "    \n",
    "    def get_token_headers(self):\n",
    "        client_creds_b64 = self.get_client_credentials()\n",
    "        return {\n",
    "                \"Authorization\": f\"Basic {client_creds_b64}\" #Basic <base64 encoded client_id:client_secret>\n",
    "        }\n",
    "    \n",
    "    def get_token_data(self):\n",
    "        return{\n",
    "            \"grant_type\": \"client_credentials\"\n",
    "        }\n",
    "    \n",
    "    def perform_auth(self):\n",
    "        token_url = self.token_url\n",
    "        token_data = self.get_token_data()\n",
    "        token_headers = self.get_token_headers()\n",
    "        r = requests.post(token_url, data=token_data, headers=token_headers)\n",
    "        access_time = datetime.datetime.now()\n",
    "        valid_request = r.status_code in range(200, 299)\n",
    "        if not valid_request:\n",
    "            return False\n",
    "        data = r.json()\n",
    "        now = datetime.datetime.now()\n",
    "        access_token = data[\"access_token\"]\n",
    "        self.access_token = access_token\n",
    "        expires_in =  data[\"expires_in\"]\n",
    "        expires = access_time+datetime.timedelta(seconds=expires_in)\n",
    "        self.access_token_expires = expires\n",
    "        self.access_token_did_expire = expires < now\n",
    "        return True\n",
    "    "
   ]
  },
  {
   "cell_type": "code",
   "execution_count": 6,
   "metadata": {},
   "outputs": [],
   "source": [
    "spotify = SpotifyAPI(client_id, client_secret)"
   ]
  },
  {
   "cell_type": "code",
   "execution_count": 7,
   "metadata": {},
   "outputs": [
    {
     "data": {
      "text/plain": [
       "True"
      ]
     },
     "execution_count": 7,
     "metadata": {},
     "output_type": "execute_result"
    }
   ],
   "source": [
    "spotify.perform_auth()"
   ]
  },
  {
   "cell_type": "code",
   "execution_count": 8,
   "metadata": {},
   "outputs": [],
   "source": [
    "access_token = spotify.access_token"
   ]
  },
  {
   "cell_type": "code",
   "execution_count": 17,
   "metadata": {},
   "outputs": [
    {
     "name": "stdout",
     "output_type": "stream",
     "text": [
      "200\n"
     ]
    }
   ],
   "source": [
    "headers = {\n",
    "    \"Authorization\": f\"Bearer {access_token}\"\n",
    "}\n",
    "endpoint = \"https://api.spotify.com/v1/search\"\n",
    "data = urlencode({\n",
    "    \"q\": \"Time\",\n",
    "    \"type\": \"track\"\n",
    "})\n",
    "lookup_url = f\"{endpoint}?{data}\"\n",
    "#r = requests.get(endpoint, data=data, headers=headers)\n",
    "r = requests.get(lookup_url, headers=headers)\n",
    "print(r.status_code)"
   ]
  },
  {
   "cell_type": "code",
   "execution_count": 1,
   "metadata": {},
   "outputs": [],
   "source": [
    "#r.json()\n"
   ]
  },
  {
   "cell_type": "code",
   "execution_count": 2,
   "metadata": {},
   "outputs": [
    {
     "data": {
      "text/plain": [
       "'data = urlencode({\\n    \"q\": \"A Lannister Always pays his debts\",\\n    \"type\": \"track\"\\n})\\nlookup_url = f\"{endpoint}?{data}\"\\n#r = requests.get(endpoint, data=data, headers=headers)\\nr = requests.get(lookup_url, headers=headers)\\nr.json()\\n'"
      ]
     },
     "execution_count": 2,
     "metadata": {},
     "output_type": "execute_result"
    }
   ],
   "source": [
    "\"\"\"data = urlencode({\n",
    "    \"q\": \"A Lannister Always pays his debts\",\n",
    "    \"type\": \"track\"\n",
    "})\n",
    "lookup_url = f\"{endpoint}?{data}\"\n",
    "#r = requests.get(endpoint, data=data, headers=headers)\n",
    "r = requests.get(lookup_url, headers=headers)\n",
    "r.json()\n",
    "\"\"\""
   ]
  },
  {
   "cell_type": "code",
   "execution_count": null,
   "metadata": {},
   "outputs": [],
   "source": []
  }
 ],
 "metadata": {
  "kernelspec": {
   "display_name": "Python 3",
   "language": "python",
   "name": "python3"
  },
  "language_info": {
   "codemirror_mode": {
    "name": "ipython",
    "version": 3
   },
   "file_extension": ".py",
   "mimetype": "text/x-python",
   "name": "python",
   "nbconvert_exporter": "python",
   "pygments_lexer": "ipython3",
   "version": "3.7.7"
  },
  "varInspector": {
   "cols": {
    "lenName": 16,
    "lenType": 16,
    "lenVar": 40
   },
   "kernels_config": {
    "python": {
     "delete_cmd_postfix": "",
     "delete_cmd_prefix": "del ",
     "library": "var_list.py",
     "varRefreshCmd": "print(var_dic_list())"
    },
    "r": {
     "delete_cmd_postfix": ") ",
     "delete_cmd_prefix": "rm(",
     "library": "var_list.r",
     "varRefreshCmd": "cat(var_dic_list()) "
    }
   },
   "types_to_exclude": [
    "module",
    "function",
    "builtin_function_or_method",
    "instance",
    "_Feature"
   ],
   "window_display": false
  }
 },
 "nbformat": 4,
 "nbformat_minor": 4
}
